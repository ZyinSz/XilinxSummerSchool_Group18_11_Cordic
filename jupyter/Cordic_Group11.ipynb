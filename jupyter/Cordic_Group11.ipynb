{
 "cells": [
  {
   "cell_type": "markdown",
   "metadata": {},
   "source": [
    "# Cordic——机械臂运动学正解\n",
    "> 该实验改编自Xilinx的[FPGA并行编程 第三章 Cordic](https://xupsh.gitbook.io/pp4fpgas-cn/zheng-wen/03-cordic)，使用Xilinx Vitis HLS生成的FIR IP来进行六自由度机械臂的运动学正解。\n",
    "\n",
    "因为对python不甚了解，只能做一些简单的数据和绘图，所以内容上会比较单薄:(\n"
   ]
  },
  {
   "cell_type": "markdown",
   "metadata": {},
   "source": [
    "首先设置一组角度数据：\n",
    "- 第七轴对位置没有贡献所以略去\n",
    "- 第一轴所在的空间位置设为(0,0,0)\n",
    "- 输入角度的范围为(-180,180)"
   ]
  },
  {
   "cell_type": "markdown",
   "metadata": {},
   "source": [
    "<div style='max-width: 1005px;'>\n",
    "<div style='width:40%; float:left; text-align:center;'>\n",
    "    <img src=\"./arm_exp.png\"/>"
   ]
  },
  {
   "cell_type": "code",
   "execution_count": 1,
   "metadata": {},
   "outputs": [
    {
     "data": {
      "text/plain": [
       "array([30, 40, 20, 60, 50, 40])"
      ]
     },
     "execution_count": 1,
     "metadata": {},
     "output_type": "execute_result"
    }
   ],
   "source": [
    "import numpy as np\n",
    "theta_in = np.array([30,40,20,60,50,40])\n",
    "theta_in[0:6]"
   ]
  },
  {
   "cell_type": "markdown",
   "metadata": {},
   "source": [
    "由于变量定义的定点数小数部分为15位，所以全部数据左移15位。"
   ]
  },
  {
   "cell_type": "code",
   "execution_count": 2,
   "metadata": {},
   "outputs": [
    {
     "data": {
      "text/plain": [
       "array([ 983040, 1310720,  655360, 1966080, 1638400, 1310720])"
      ]
     },
     "execution_count": 2,
     "metadata": {},
     "output_type": "execute_result"
    }
   ],
   "source": [
    "import numpy as np\n",
    "theta = np.array([theta_in[0]<<15,theta_in[1]<<15,\n",
    "                  theta_in[2]<<15,theta_in[3]<<15,\n",
    "                  theta_in[4]<<15,theta_in[5]<<15])\n",
    "theta[0:6]"
   ]
  },
  {
   "cell_type": "markdown",
   "metadata": {},
   "source": [
    "### 加载Overlay\n",
    "\n",
    "Overlay模块封装了ARM CPU与FPGA的PL部分进行交互的接口。\n",
    "\n",
    "- 我们可以通过简单的`Overlay()`方法将刚才生成的硬件设计加载到PL上\n",
    "- 通过`overlay.cordic_wrap_0`语句，我们可以通过访问的Python对象的形式来与IP交互"
   ]
  },
  {
   "cell_type": "code",
   "execution_count": 3,
   "metadata": {},
   "outputs": [
    {
     "data": {
      "application/javascript": [
       "\n",
       "try {\n",
       "require(['notebook/js/codecell'], function(codecell) {\n",
       "  codecell.CodeCell.options_default.highlight_modes[\n",
       "      'magic_text/x-csrc'] = {'reg':[/^%%microblaze/]};\n",
       "  Jupyter.notebook.events.one('kernel_ready.Kernel', function(){\n",
       "      Jupyter.notebook.get_cells().map(function(cell){\n",
       "          if (cell.cell_type == 'code'){ cell.auto_highlight(); } }) ;\n",
       "  });\n",
       "});\n",
       "} catch (e) {};\n"
      ]
     },
     "metadata": {},
     "output_type": "display_data"
    },
    {
     "data": {
      "application/javascript": [
       "\n",
       "try {\n",
       "require(['notebook/js/codecell'], function(codecell) {\n",
       "  codecell.CodeCell.options_default.highlight_modes[\n",
       "      'magic_text/x-csrc'] = {'reg':[/^%%pybind11/]};\n",
       "  Jupyter.notebook.events.one('kernel_ready.Kernel', function(){\n",
       "      Jupyter.notebook.get_cells().map(function(cell){\n",
       "          if (cell.cell_type == 'code'){ cell.auto_highlight(); } }) ;\n",
       "  });\n",
       "});\n",
       "} catch (e) {};\n"
      ]
     },
     "metadata": {},
     "output_type": "display_data"
    }
   ],
   "source": [
    "from pynq import Overlay\n",
    "overlay = Overlay(\"./cordic.bit\")\n",
    "cordic = overlay.cordic_wrap_0"
   ]
  },
  {
   "cell_type": "markdown",
   "metadata": {},
   "source": [
    "### 分配内存供IP使用\n",
    "`pynq.allocate`函数用于为PL中的IP分配可以使用的内存空间。\n",
    "- 在PL中的IP访问DRAM之前，必须为其保留一些内存供IP使用，分配大小与地址\n",
    "- 我们分别为输入、sin输出和cos输出三个部分分配内存，数据类型为int32_t\n",
    "- `pynq.allocate`会分配物理上的连续内存，并返回一个`pynq.Buffer`表示已经分配缓冲区的对象"
   ]
  },
  {
   "cell_type": "code",
   "execution_count": 4,
   "metadata": {},
   "outputs": [],
   "source": [
    "from pynq import allocate\n",
    "sample_len = len(theta)\n",
    "input_buffer = allocate(shape=(sample_len,), dtype='i4')\n",
    "output_s_buffer = allocate(shape=(sample_len,), dtype='i4')\n",
    "output_c_buffer = allocate(shape=(sample_len,), dtype='i4')"
   ]
  },
  {
   "cell_type": "markdown",
   "metadata": {},
   "source": [
    "将预设的角度值复制到我们刚分配的内存中。"
   ]
  },
  {
   "cell_type": "code",
   "execution_count": 5,
   "metadata": {},
   "outputs": [],
   "source": [
    "np.copyto(input_buffer, np.array(theta))"
   ]
  },
  {
   "cell_type": "markdown",
   "metadata": {},
   "source": [
    "我们可以看到，缓冲区本质也是numpy数组，但是提供了一些物理地址属性。"
   ]
  },
  {
   "cell_type": "code",
   "execution_count": 6,
   "metadata": {},
   "outputs": [
    {
     "data": {
      "text/plain": [
       "PynqBuffer([ 983040, 1310720,  655360, 1966080, 1638400, 1310720])"
      ]
     },
     "execution_count": 6,
     "metadata": {},
     "output_type": "execute_result"
    }
   ],
   "source": [
    "input_buffer[0:6]"
   ]
  },
  {
   "cell_type": "code",
   "execution_count": 7,
   "metadata": {
    "scrolled": true
   },
   "outputs": [
    {
     "data": {
      "text/plain": [
       "377786368"
      ]
     },
     "execution_count": 7,
     "metadata": {},
     "output_type": "execute_result"
    }
   ],
   "source": [
    "input_buffer.physical_address"
   ]
  },
  {
   "cell_type": "markdown",
   "metadata": {},
   "source": [
    "### 配置IP\n",
    "\n",
    "我们可以直接使用IP的`write`方法，将刚分配的内存空间的地址写入到IP对应位置上"
   ]
  },
  {
   "cell_type": "markdown",
   "metadata": {},
   "source": [
    "对于数据长度，我们可以直接在对应寄存器写入值。"
   ]
  },
  {
   "cell_type": "code",
   "execution_count": 8,
   "metadata": {},
   "outputs": [],
   "source": [
    "cordic.s_axi_control.write(0x10,input_buffer.physical_address)\n",
    "cordic.s_axi_control.write(0x1c,output_s_buffer.physical_address)\n",
    "cordic.s_axi_control.write(0x28,output_c_buffer.physical_address)\n",
    "cordic.s_axi_CTRL.write(0x10, sample_len)"
   ]
  },
  {
   "cell_type": "markdown",
   "metadata": {},
   "source": [
    "### 启动IP\n",
    "\n",
    "控制信号位于0x00地址，我们可以对其进行写入与读取来控制IP启动、监听是否完成。"
   ]
  },
  {
   "cell_type": "code",
   "execution_count": 9,
   "metadata": {},
   "outputs": [
    {
     "name": "stdout",
     "output_type": "stream",
     "text": [
      "耗时：0.0008859634399414062s\n"
     ]
    }
   ],
   "source": [
    "import time\n",
    "\n",
    "cordic.s_axi_CTRL.write(0x00, 0x01)\n",
    "start_time = time.time()\n",
    "while True:\n",
    "    reg = cordic.s_axi_CTRL.read(0x00)\n",
    "    if reg != 1:\n",
    "        break\n",
    "end_time = time.time()\n",
    "\n",
    "print(\"耗时：{}s\".format(end_time - start_time))"
   ]
  },
  {
   "cell_type": "markdown",
   "metadata": {},
   "source": [
    "结果已经被写入到了`output_buffer`中，我们可以进行查看"
   ]
  },
  {
   "cell_type": "markdown",
   "metadata": {},
   "source": [
    "同样的输出的数据要右移15位处理。"
   ]
  },
  {
   "cell_type": "code",
   "execution_count": 10,
   "metadata": {},
   "outputs": [
    {
     "data": {
      "text/plain": [
       "array([0.50006104, 0.64285278, 0.34207153, 0.8661499 , 0.7661438 ,\n",
       "       0.64285278])"
      ]
     },
     "execution_count": 10,
     "metadata": {},
     "output_type": "execute_result"
    }
   ],
   "source": [
    "output_s=np.array([(output_s_buffer[0]/(float)(1<<15)),(output_s_buffer[1]/(float)(1<<15)),\n",
    "                   (output_s_buffer[2]/(float)(1<<15)),(output_s_buffer[3]/(float)(1<<15)),\n",
    "                   (output_s_buffer[4]/(float)(1<<15)),(output_s_buffer[5]/(float)(1<<15))])\n",
    "output_s"
   ]
  },
  {
   "cell_type": "code",
   "execution_count": 11,
   "metadata": {},
   "outputs": [
    {
     "data": {
      "text/plain": [
       "array([0.8661499 , 0.7661438 , 0.93966675, 0.50006104, 0.64285278,\n",
       "       0.7661438 ])"
      ]
     },
     "execution_count": 11,
     "metadata": {},
     "output_type": "execute_result"
    }
   ],
   "source": [
    "output_c=np.array([(output_c_buffer[0]/(float)(1<<15)),(output_c_buffer[1]/(float)(1<<15)),\n",
    "                   (output_c_buffer[2]/(float)(1<<15)),(output_c_buffer[3]/(float)(1<<15)),\n",
    "                   (output_c_buffer[4]/(float)(1<<15)),(output_c_buffer[5]/(float)(1<<15))])\n",
    "output_c"
   ]
  },
  {
   "cell_type": "markdown",
   "metadata": {},
   "source": [
    "### 可视化结果\n",
    "\n",
    "使用绘图组件，我们对硬件函数的结果进行可视化\n",
    "\n",
    "- 为了简化计算，预设各臂长为1\n",
    "- 利用了旋转矩阵的方案\n",
    "- 可以看到，各关节的位置都可解出"
   ]
  },
  {
   "cell_type": "markdown",
   "metadata": {},
   "source": [
    "两个旋转矩阵："
   ]
  },
  {
   "cell_type": "code",
   "execution_count": 19,
   "metadata": {},
   "outputs": [],
   "source": [
    "rot_1=np.array([[output_c[0], -output_s[0]*output_c[1], output_s[0]*output_s[1]],\n",
    "                [output_s[0], output_c[0]*output_c[1], -output_c[0]*output_s[1]],\n",
    "                [0, output_s[1], output_c[1]]])"
   ]
  },
  {
   "cell_type": "code",
   "execution_count": 20,
   "metadata": {},
   "outputs": [],
   "source": [
    "rot_2=np.array([[output_c[2], -output_s[2]*output_c[3], output_s[2]*output_s[3]],\n",
    "                [output_s[2], output_c[2]*output_c[3], -output_c[2]*output_s[3]],\n",
    "                [0, output_s[3], output_c[3]]])"
   ]
  },
  {
   "cell_type": "markdown",
   "metadata": {},
   "source": [
    "五个位置向量："
   ]
  },
  {
   "cell_type": "code",
   "execution_count": 21,
   "metadata": {},
   "outputs": [],
   "source": [
    "position_0=np.array([0,0,0])"
   ]
  },
  {
   "cell_type": "code",
   "execution_count": 22,
   "metadata": {},
   "outputs": [],
   "source": [
    "position_1=np.array([0,0,1])"
   ]
  },
  {
   "cell_type": "code",
   "execution_count": 23,
   "metadata": {
    "scrolled": true
   },
   "outputs": [
    {
     "data": {
      "text/plain": [
       "array([0.55680688, 0.32146563, 1.7661438 ])"
      ]
     },
     "execution_count": 23,
     "metadata": {},
     "output_type": "execute_result"
    }
   ],
   "source": [
    "relative_2=np.array([output_c[0]*output_s[1],\n",
    "                     output_s[0]*output_s[1],\n",
    "                     output_c[1]])\n",
    "position_2=position_1+relative_2\n",
    "position_2"
   ]
  },
  {
   "cell_type": "code",
   "execution_count": 24,
   "metadata": {},
   "outputs": [
    {
     "data": {
      "text/plain": [
       "array([ 1.40992028, -0.47679096,  2.60751435])"
      ]
     },
     "execution_count": 24,
     "metadata": {},
     "output_type": "execute_result"
    }
   ],
   "source": [
    "relative_3=np.array([output_c[2]*output_s[3],\n",
    "                     output_s[2]*output_s[3],\n",
    "                     output_c[3]])\n",
    "\n",
    "position_3=np.dot(relative_3,rot_1)\n",
    "position_3=position_2+position_3\n",
    "position_3"
   ]
  },
  {
   "cell_type": "code",
   "execution_count": 25,
   "metadata": {},
   "outputs": [
    {
     "data": {
      "text/plain": [
       "array([ 1.32455432, -0.53183395,  2.59787295])"
      ]
     },
     "execution_count": 25,
     "metadata": {},
     "output_type": "execute_result"
    }
   ],
   "source": [
    "relative_4=np.array([output_c[4]*output_s[5],\n",
    "                     output_s[4]*output_s[5],\n",
    "                     output_c[5]])\n",
    "position_4=np.dot(relative_4,rot_2)\n",
    "position_4=np.dot(position_4,rot_1)\n",
    "position_4=position_3+position_4\n",
    "position_4"
   ]
  },
  {
   "cell_type": "markdown",
   "metadata": {},
   "source": [
    "得到五个关节的位置向量后就可以在空间中绘制姿态："
   ]
  },
  {
   "cell_type": "code",
   "execution_count": 26,
   "metadata": {},
   "outputs": [
    {
     "data": {
      "text/plain": [
       "<mpl_toolkits.mplot3d.art3d.Path3DCollection at 0xae83b1a8>"
      ]
     },
     "execution_count": 26,
     "metadata": {},
     "output_type": "execute_result"
    },
    {
     "data": {
      "image/png": "[encoded data removed]",
      "text/plain": [
       "<Figure size 432x288 with 1 Axes>"
      ]
     },
     "metadata": {
      "needs_background": "light"
     },
     "output_type": "display_data"
    }
   ],
   "source": [
    "import matplotlib.pyplot as plt\n",
    "from mpl_toolkits.mplot3d import Axes3D\n",
    "fig = plt.figure()\n",
    "ax = fig.add_subplot(111, projection='3d')\n",
    "ax.set_xlim(0, 3)  # X轴，横向向右方向\n",
    "ax.set_ylim(-1, 1) # Y轴,左向与X,Z轴互为垂直\n",
    "ax.set_zlim(0, 3)  # 竖向为Z轴\n",
    "ax.scatter(position_0[0], position_0[1], position_0[2], s=20, c='r', depthshade=False)\n",
    "ax.scatter(position_1[0], position_1[1], position_1[2], s=20, c='r', depthshade=False)\n",
    "ax.scatter(position_2[0], position_2[1], position_2[2], s=20, c='r', depthshade=False)\n",
    "ax.scatter(position_3[0], position_3[1], position_3[2], s=20, c='r', depthshade=False)\n",
    "ax.scatter(position_4[0], position_4[1], position_4[2], s=20, c='r', depthshade=False)"
   ]
  },
  {
   "cell_type": "markdown",
   "metadata": {},
   "source": [
    "因为本人能力有限，所以notebook部分只是现学现做了一些简单的内容，可视化的部分也不够理想。\n",
    "\n",
    "另外因为时间关系，功能上也只是简单制作了Cordic的部分，提出一个完善的思路：在计算位置信息的步骤中包含矩阵的乘法，可以将这一部分直接加入IP中，IP直接输出计算完成的位置向量。"
   ]
  },
  {
   "cell_type": "code",
   "execution_count": null,
   "metadata": {},
   "outputs": [],
   "source": []
  }
 ],
 "metadata": {
  "kernelspec": {
   "display_name": "Python 3",
   "language": "python",
   "name": "python3"
  },
  "language_info": {
   "codemirror_mode": {
    "name": "ipython",
    "version": 3
   },
   "file_extension": ".py",
   "mimetype": "text/x-python",
   "name": "python",
   "nbconvert_exporter": "python",
   "pygments_lexer": "ipython3",
   "version": "3.8.2"
  }
 },
 "nbformat": 4,
 "nbformat_minor": 4
}
